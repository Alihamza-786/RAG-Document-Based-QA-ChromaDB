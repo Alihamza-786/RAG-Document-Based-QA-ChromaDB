{
 "cells": [
  {
   "cell_type": "code",
   "execution_count": 19,
   "id": "342f354b-6b83-481f-abbf-0106a61d8558",
   "metadata": {},
   "outputs": [],
   "source": [
    "import os\n",
    "import umap\n",
    "import chromadb\n",
    "import numpy as np\n",
    "from pypdf import PdfReader\n",
    "import matplotlib.pyplot as plt\n",
    "from langchain_ollama import ChatOllama\n",
    "from helper_utils import project_embeddings, word_wrap"
   ]
  },
  {
   "cell_type": "code",
   "execution_count": 20,
   "id": "9e0ac8ce-86af-498d-a376-557af253e608",
   "metadata": {},
   "outputs": [],
   "source": [
    "reader = PdfReader(\"data/microsoft-annual-report.pdf\")\n",
    "pdf_texts = [p.extract_text().strip() for p in reader.pages]\n",
    "\n",
    "#Filter the empty strings\n",
    "pdf_texts = [text for text in pdf_texts if text]"
   ]
  },
  {
   "cell_type": "code",
   "execution_count": 21,
   "id": "1038872a-a59a-49dd-9dbc-045416f3b70b",
   "metadata": {},
   "outputs": [],
   "source": [
    "from langchain.text_splitter import (\n",
    "    RecursiveCharacterTextSplitter,\n",
    "    SentenceTransformersTokenTextSplitter,\n",
    ")\n",
    "\n",
    "character_splitter = RecursiveCharacterTextSplitter(\n",
    "    separators=[\"\\n\\n\", \"\\n\", \". \", \" \", \"\"], chunk_size=1000, chunk_overlap=0\n",
    ")\n",
    "character_split_texts = character_splitter.split_text(\"\\n\\n\".join(pdf_texts))"
   ]
  },
  {
   "cell_type": "code",
   "execution_count": 22,
   "id": "8689adc4-67cd-4f03-82da-df60c5197931",
   "metadata": {},
   "outputs": [],
   "source": [
    "token_splitter = SentenceTransformersTokenTextSplitter(\n",
    "chunk_overlap=0, tokens_per_chunk=256\n",
    ")\n",
    "token_split_texts = []\n",
    "for text in character_split_texts:\n",
    "    token_split_texts += token_splitter.split_text(text)"
   ]
  },
  {
   "cell_type": "code",
   "execution_count": 23,
   "id": "9817d3ac-0257-4759-907b-d8eb793b2fc2",
   "metadata": {},
   "outputs": [],
   "source": [
    "from chromadb.utils.embedding_functions import SentenceTransformerEmbeddingFunction\n",
    "\n",
    "embedding_function = SentenceTransformerEmbeddingFunction()\n",
    "\n",
    "chroma_client = chromadb.Client()\n",
    "chroma_collection = chroma_client.get_or_create_collection(\n",
    "    \"microsoft-collection\", embedding_function=embedding_function\n",
    ")"
   ]
  },
  {
   "cell_type": "code",
   "execution_count": 24,
   "id": "c5c3bc8a-7578-4147-a889-6bd1743630c6",
   "metadata": {},
   "outputs": [
    {
     "name": "stdout",
     "output_type": "stream",
     "text": [
      "359\n"
     ]
    }
   ],
   "source": [
    "#extract the embeddings of the token_split_texts\n",
    "ids = [str(i) for i in range(len(token_split_texts))]\n",
    "chroma_collection.add(ids=ids, documents=token_split_texts)\n",
    "count = chroma_collection.count()\n",
    "print(count)"
   ]
  },
  {
   "cell_type": "code",
   "execution_count": 25,
   "id": "65f902da-3a1a-422a-ad8a-64f8b43e246f",
   "metadata": {},
   "outputs": [
    {
     "name": "stdout",
     "output_type": "stream",
     "text": [
      "competitive in local markets and enables us to continue to attract top talent from acro\n",
      "ss the world. we plan to continue to make significant investments in a broad range of p\n",
      "roduct research and development activities, and as appropriate we will coordinate our r\n",
      "esearch and development across operating segments and leverage the results across the c\n",
      "ompany. in addition to our main research and development operations, we also operate mi\n",
      "crosoft research. microsoft research is one of the world ’ s largest corporate research\n",
      " organizations, often working in close collaboration with top universities around the w\n",
      "orld, and is focused on advancing the state - of - the - art in computer science and a \n",
      "broad range of other disciplines. our investment in fundamental research provides us a \n",
      "unique perspective on future trends and contributes to our innovation. distribution, sa\n",
      "les, and marketing\n",
      "\n",
      "our success is based on our ability to create new and compelling products, services, an\n",
      "d experiences for our users, to initiate and embrace disruptive technology trends, to e\n",
      "nter new geographic and product markets, and to drive broad adoption of our products an\n",
      "d services. we invest in a range of emerging technology trends and breakthroughs that w\n",
      "e believe offer significant opportunities to deliver value to our customers and growth \n",
      "for the company. based on our assessment of key technology trends, we maintain our long\n",
      " - term commitment to research and development across a wide spectrum of technologies, \n",
      "tools, and platforms spanning digital work and life experiences, cloud computing, ai, d\n",
      "evices, and operating systems. while our main product research and development faciliti\n",
      "es are located in redmond, washington, we also operate research and development facilit\n",
      "ies in other parts of the u. s. and around the world. this global approach helps us rem\n",
      "ain\n",
      "\n",
      "we also continue to take responsibility for the impacts of our direct operations on ear\n",
      "th ’ s ecosystems. we ’ ve contracted to protect 17, 268 acres of land, over 50 percent\n",
      " more than the land we use to operate. of that, 12, 270 acres — the equivalent of appro\n",
      "ximately 7, 000 soccer fields — were designated as permanently protected. technology is\n",
      " a powerful lever to help us avoid the most severe impacts of climate change. that ’ s \n",
      "why we ’ re accelerating our investment in more efficient datacenters, clean energy, en\n",
      "hancements to the microsoft cloud for sustainability and planetary computer, and green \n",
      "software practices. to date, through our climate innovation fund, we ’ ve allocated mor\n",
      "e than $ 700 million to a global portfolio of 50 + investments spanning sustainable sol\n",
      "utions in energy, industrial, and natural systems. finally, we believe ai can be a powe\n",
      "rful accelerant in addressing the climate crisis. we expanded our ai for good lab in\n",
      "\n",
      "make select intellectual property broadly available at no or low cost to achieve a stra\n",
      "tegic objective, such as promoting industry standards, advancing interoperability, supp\n",
      "orting societal and / or environmental efforts, or attracting and enabling our external\n",
      " development community. our increasing engagement with open source software will also c\n",
      "ause us to license our intellectual property rights broadly in certain situations. whil\n",
      "e it may be necessary in the future to seek or renew licenses relating to various aspec\n",
      "ts of our products and services, we believe, based upon past experience and industry pr\n",
      "actice, such licenses generally can be obtained on commercially reasonable terms. we be\n",
      "lieve our continuing research and product development are not materially dependent on a\n",
      "ny single license or other agreement with a third party relating to the development of \n",
      "our products. investing in the future\n",
      "\n",
      "how github copilot was writing about 80 percent of his code, with 80 percent accuracy. \n",
      "two days later, i saw a stunning example of work we ’ ve done with the government of in\n",
      "dia ’ s ministry of electronics and it, which is applying an ai model so farmers in rur\n",
      "al areas can interact with government resources in their native languages. think about \n",
      "that : a foundation model that was developed on the west coast of the united states is \n",
      "already transforming the lives of both elite developers and rural farmers on the other \n",
      "side of the globe. we ’ ve not seen this speed of diffusion and breadth of impact in th\n",
      "e tech industry before. as a company, this is our moment to show up and responsibly bui\n",
      "ld solutions that drive economic growth and benefit every community, country, industry,\n",
      " and person. if we do it well, the world will do well, and microsoft will do well too. \n",
      "i ’ ve never been more confident that we will deliver on this promise together in the d\n",
      "ays, months, and years to come.\n",
      "\n",
      "( in millions ) year ended june 30, 2023 2022 2021 net realized gains on investments so\n",
      "ld $ 75 $ 29 $ 123 net unrealized gains on investments still held 303 509 1, 057 impair\n",
      "ments of investments ( 20 ) ( 20 ) ( 11 ) total $ 358 $ 518 $ 1, 169 66\n",
      "\n",
      "country. and although ai can serve as a catalyst for opportunity and growth, we must fi\n",
      "rst ensure everyone has access to the technologies, data, and skills they need to benef\n",
      "it. to achieve this, we are focused on getting technology into the hands of nonprofits,\n",
      " social entrepreneurs, and other civil society organizations to help them digitally tra\n",
      "nsform, so they can help address some of society ’ s biggest challenges. this year, we \n",
      "provided nonprofits with over $ 3. 8 billion in discounted and donated technology. near\n",
      "ly 325, 000 nonprofits used our cloud. and to help them tap the potential of ai, we ’ r\n",
      "e building new ai capabilities for fundraising, marketing, and program delivery. ai wil\n",
      "l displace some jobs, but it will also create new ones. that ’ s why we aim to train an\n",
      "d certify 10 million people by 2025 with the skills for jobs and livelihoods in an incr\n",
      "easingly digital economy. since july 2020, we ’ ve helped 8. 5 million\n",
      "\n",
      "operating expenses research and development research and development expenses include p\n",
      "ayroll, employee benefits, stock - based compensation expense, and other headcount - re\n",
      "lated expenses associated with product development. research and development expenses a\n",
      "lso include third - party development and programming costs and the amortization of pur\n",
      "chased software code and services content. fiscal year 2023 compared with fiscal year 2\n",
      "022 research and development expenses increased $ 2. 7 billion or 11 % driven by invest\n",
      "ments in cloud engineering and linkedin. sales and marketing sales and marketing expens\n",
      "es include payroll, employee benefits, stock - based compensation expense, and other he\n",
      "adcount - related expenses associated with sales and marketing personnel, and the costs\n",
      " of advertising, promotions, trade shows, seminars, and other programs. fiscal year 202\n",
      "3 compared with fiscal year 2022\n",
      "\n",
      "we protect our intellectual property investments in a variety of ways. we work actively\n",
      " in the u. s. and internationally to ensure the enforcement of copyright, trademark, tr\n",
      "ade secret, and other protections that apply to our software and hardware products, ser\n",
      "vices, business plans, and branding. we are a leader among technology companies in purs\n",
      "uing patents and currently have a portfolio of over 70, 000 u. s. and international pat\n",
      "ents issued and over 19, 000 pending worldwide. while we employ much of our internally \n",
      "- developed intellectual property in our products and services, we also engage in outbo\n",
      "und licensing of specific patented technologies that are incorporated into licensees ’ \n",
      "products. from time to time, we enter into broader cross - license agreements with othe\n",
      "r technology companies covering entire groups of patents. we may also purchase or licen\n",
      "se technology that we incorporate into our products and services. at times, we\n",
      "\n",
      "research and development product and service development, and intellectual property we \n",
      "develop most of our products and services internally through the following engineering \n",
      "groups. • cloud and ai – focuses on making it professionals, developers, partners, inde\n",
      "pendent software vendors, and their systems more productive and efficient through devel\n",
      "opment of azure ai platform and cloud infrastructure, server, database, crm, erp, softw\n",
      "are development tools and services ( including github ), ai cognitive services, and oth\n",
      "er business process applications and services for enterprises. • strategic missions and\n",
      " technologies – focuses on incubating technical products and support solutions with tra\n",
      "nsformative potential for the future of cloud computing and continued company growth ac\n",
      "ross quantum computing, azure space & missions engineering, telecommunications, and mic\n",
      "rosoft federal sales and delivery.\n",
      "\n"
     ]
    }
   ],
   "source": [
    "query = \"What has been the investment in research and development?\"\n",
    "\n",
    "results = chroma_collection.query(\n",
    "    query_texts=query, n_results=10, include=[\"documents\", \"embeddings\"]\n",
    ")\n",
    "\n",
    "retrieved_documents = results[\"documents\"][0]\n",
    "\n",
    "for document in results[\"documents\"][0]:\n",
    "    print(word_wrap(document))\n",
    "    print(\"\")"
   ]
  },
  {
   "cell_type": "code",
   "execution_count": 26,
   "id": "92d92996-e96a-460e-9c29-f7a8c1be7487",
   "metadata": {},
   "outputs": [],
   "source": [
    "from sentence_transformers import CrossEncoder\n",
    "\n",
    "cross_encoder = CrossEncoder(\"cross-encoder/ms-marco-MiniLM-L-6-v2\")\n"
   ]
  },
  {
   "cell_type": "code",
   "execution_count": 27,
   "id": "62beca92-05f3-4956-8aef-c0194b23457c",
   "metadata": {},
   "outputs": [
    {
     "name": "stdout",
     "output_type": "stream",
     "text": [
      "Scores:\n",
      "3.4474525\n",
      "-0.26803175\n",
      "-7.5625663\n",
      "-5.184921\n",
      "-10.452858\n",
      "-9.774546\n",
      "-9.665048\n",
      "-0.110477045\n",
      "-7.090519\n",
      "-3.134781\n"
     ]
    }
   ],
   "source": [
    "pairs = [[query, doc] for doc in retrieved_documents]\n",
    "scores = cross_encoder.predict(pairs)\n",
    "\n",
    "print(\"Scores:\")\n",
    "for score in scores:\n",
    "    print(score)"
   ]
  },
  {
   "cell_type": "code",
   "execution_count": 28,
   "id": "c7eefb6d-3363-4f95-b3c6-64d67ee9b560",
   "metadata": {},
   "outputs": [
    {
     "name": "stdout",
     "output_type": "stream",
     "text": [
      "New Ordering:\n",
      "1\n",
      "8\n",
      "2\n",
      "10\n",
      "4\n",
      "9\n",
      "3\n",
      "7\n",
      "6\n",
      "5\n"
     ]
    }
   ],
   "source": [
    "print(\"New Ordering:\")\n",
    "for o in np.argsort(scores)[::-1]:\n",
    "    print(o + 1)"
   ]
  },
  {
   "cell_type": "markdown",
   "id": "cd958f8d-292c-41f7-9c6c-fb12f3e66823",
   "metadata": {},
   "source": [
    "- Rank 1 is the 1st item (score 3.44)\n",
    "\n",
    "- Rank 2 is the 8th item (score -0.11)\n",
    "\n",
    "- Rank 3 is the 2nd item (score -0.26)\n"
   ]
  },
  {
   "cell_type": "code",
   "execution_count": 29,
   "id": "ba625bd7-cdcc-4e96-ad8c-8478cb55f78f",
   "metadata": {},
   "outputs": [],
   "source": [
    "original_query = (\n",
    "    \"What were the most important factors that contributed to increases in revenue?\"\n",
    ")\n",
    "\n",
    "generated_queries = [\n",
    "    \"What were the major drivers of revenue growth?\",\n",
    "    \"Were there any new product launches that contributed to the increase in revenue?\",\n",
    "    \"Did any changes in pricing or promotions impact the revenue growth?\",\n",
    "    \"What were the key market trends that facilitated the increase in revenue?\",\n",
    "    \"Did any acquisitions or partnerships contribute to the revenue growth?\",\n",
    "]"
   ]
  },
  {
   "cell_type": "code",
   "execution_count": 44,
   "id": "5c9bdb9c-4114-4bd5-ae1a-ade73c14aeb9",
   "metadata": {},
   "outputs": [],
   "source": [
    "# concatenate the original query with the generated queries\n",
    "queries = [original_query] + generated_queries\n",
    "\n",
    "\n",
    "results = chroma_collection.query(\n",
    "    query_texts=queries, n_results=10, include=[\"documents\", \"embeddings\"]\n",
    ")\n",
    "retrieved_documents = results[\"documents\"]\n",
    "\n",
    "# Deduplicate the retrieved documents\n",
    "unique_documents = set()\n",
    "for documents in retrieved_documents:\n",
    "    for document in documents:\n",
    "        unique_documents.add(document)\n",
    "\n",
    "unique_documents = list(unique_documents)"
   ]
  },
  {
   "cell_type": "code",
   "execution_count": 47,
   "id": "d7b167d5-a8e6-4eef-93aa-d3f826ada237",
   "metadata": {},
   "outputs": [
    {
     "name": "stdout",
     "output_type": "stream",
     "text": [
      "Scores:\n",
      "-4.8165164\n",
      "-10.147166\n",
      "-2.796056\n",
      "-9.565954\n",
      "-5.777502\n",
      "-10.803806\n",
      "-9.333397\n",
      "-11.113978\n",
      "-7.3096385\n",
      "-8.258858\n",
      "-10.245659\n",
      "-11.02249\n",
      "-8.883003\n",
      "-9.409262\n",
      "-10.8127\n",
      "-4.823413\n",
      "-6.042601\n",
      "-9.144857\n",
      "-4.7737303\n",
      "-6.4308596\n",
      "-5.3444414\n",
      "-4.6324058\n",
      "-5.1089973\n",
      "-3.3177636\n"
     ]
    }
   ],
   "source": [
    "pairs = []\n",
    "for doc in unique_documents:\n",
    "    pairs.append([original_query, doc])\n",
    "\n",
    "scores = cross_encoder.predict(pairs)\n",
    "\n",
    "print(\"Scores:\")\n",
    "for score in scores:\n",
    "    print(score)"
   ]
  },
  {
   "cell_type": "code",
   "execution_count": 48,
   "id": "9cd77e84-87e9-4b19-88c1-9f33c2941ddb",
   "metadata": {},
   "outputs": [
    {
     "name": "stdout",
     "output_type": "stream",
     "text": [
      "New Ordering:\n",
      "2\n",
      "23\n",
      "21\n",
      "18\n",
      "0\n",
      "15\n",
      "22\n",
      "20\n",
      "4\n",
      "16\n",
      "19\n",
      "8\n",
      "9\n",
      "12\n",
      "17\n",
      "6\n",
      "13\n",
      "3\n",
      "1\n",
      "10\n",
      "5\n",
      "14\n",
      "11\n",
      "7\n"
     ]
    }
   ],
   "source": [
    "print (\"New Ordering:\")\n",
    "for o in np.argsort(scores)[::-1]:\n",
    "    print(o)"
   ]
  },
  {
   "cell_type": "code",
   "execution_count": 35,
   "id": "dc32c4fd-1774-4d49-8773-1e84e8c8033e",
   "metadata": {},
   "outputs": [],
   "source": [
    "top_indices = np.argsort(scores)[::-1][:5]\n",
    "top_documents = [unique_documents[i] for i in top_indices]\n",
    "\n",
    "# Concatenate the top documents into a single context\n",
    "context = \"\\n\\n\".join(top_documents)"
   ]
  },
  {
   "cell_type": "code",
   "execution_count": 37,
   "id": "7488af92-89f0-4fd3-8849-a0f09e670a66",
   "metadata": {},
   "outputs": [],
   "source": [
    "client = ChatOllama(\n",
    "    model = \"llama3.1\",\n",
    "    temperatur=\"0.0\",\n",
    ")"
   ]
  },
  {
   "cell_type": "code",
   "execution_count": 38,
   "id": "2d06ef5e-2d2a-473e-8cda-95f413e084bd",
   "metadata": {},
   "outputs": [],
   "source": [
    "def generate_multi_query(query, context):\n",
    "    prompt = f\"\"\"\n",
    "    You are a knowledgeable financial research assistant.\n",
    "    Your users are inquiring an annual report.\n",
    "    \"\"\"\n",
    "    messages = [\n",
    "        {\"role\": \"system\", \"content\": prompt,},\n",
    "        {\"role\": \"user\", \"content\": f\"based on the following context:\\n\\n{context}\\n\\nAnswer the query: '{query}'\",},\n",
    "    ]\n",
    "    response = client.invoke(messages)\n",
    "    content = response.content\n",
    "    content = content.split(\"\\n\")\n",
    "    return content\n",
    "    "
   ]
  },
  {
   "cell_type": "code",
   "execution_count": 39,
   "id": "1e734fcf-93ef-4451-9351-11d5e9a387c4",
   "metadata": {},
   "outputs": [
    {
     "name": "stdout",
     "output_type": "stream",
     "text": [
      "Final Answer:\n",
      "['Based on the provided information, the most important factors that contributed to increases in revenue for Fiscal Year 2023 compared to Fiscal Year 2022 are:', '', '1. **Intelligent Cloud Revenue Growth**: This segment saw a significant increase of $12.9 billion (17%) driven by growth in Azure and other cloud services.', '2. **Azure and Other Cloud Services Growth**: Within the Intelligent Cloud segment, Azure and other cloud services revenue grew by 29%, driven by expansion in consumption-based services.', '3. **Office 365 Commercial Growth**: Office 365 commercial saw a growth of 13%, contributing to an increase in Productivity and Business Processes revenue.', '4. **LinkedIn Revenue Growth**: LinkedIn revenue increased by 10%,', '5. **Dynamics Products and Cloud Services Growth**: Dynamics products and cloud services revenue grew by 16%, driven by Dynamics 365 growth of 24%.', '', 'These factors collectively contributed to a total revenue increase of $13.6 billion (7%) in Fiscal Year 2023 compared to Fiscal Year 2022.']\n"
     ]
    }
   ],
   "source": [
    "res = generate_multi_query(query=original_query, context=context)\n",
    "print(\"Final Answer:\")\n",
    "print(res)"
   ]
  }
 ],
 "metadata": {
  "kernelspec": {
   "display_name": "Python 3 (ipykernel)",
   "language": "python",
   "name": "python3"
  },
  "language_info": {
   "codemirror_mode": {
    "name": "ipython",
    "version": 3
   },
   "file_extension": ".py",
   "mimetype": "text/x-python",
   "name": "python",
   "nbconvert_exporter": "python",
   "pygments_lexer": "ipython3",
   "version": "3.13.3"
  }
 },
 "nbformat": 4,
 "nbformat_minor": 5
}
